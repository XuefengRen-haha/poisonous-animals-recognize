{
 "cells": [
  {
   "cell_type": "code",
   "execution_count": 1,
   "metadata": {},
   "outputs": [
    {
     "name": "stderr",
     "output_type": "stream",
     "text": [
      "WARNING:root:scikit-learn version 0.23.2 is not supported. Minimum required version: 0.17. Maximum required version: 0.19.2. Disabling scikit-learn conversion API.\n",
      "WARNING:root:Keras version 2.4.3 detected. Last version known to be fully compatible of Keras is 2.2.4 .\n"
     ]
    }
   ],
   "source": [
    "from keras.models import load_model\n",
    "import coremltools\n",
    "import pickle\n",
    "import os\n",
    "#from tensorflow.keras.applications.mobilenet import MobileNet\n",
    "#from tensorflow.keras.applications.mobilenet_v2 import MobileNetV2 \n",
    "#from tensorflow.keras.layers import Input, Dense, Dropout, Flatten\n",
    "#import keras\n",
    "import sklearn\n",
    "#import tensorflow as tf"
   ]
  },
  {
   "cell_type": "code",
   "execution_count": 19,
   "metadata": {},
   "outputs": [
    {
     "name": "stdout",
     "output_type": "stream",
     "text": [
      "2.2.4\n"
     ]
    }
   ],
   "source": [
    "print(keras.__version__)"
   ]
  },
  {
   "cell_type": "code",
   "execution_count": 20,
   "metadata": {},
   "outputs": [
    {
     "name": "stdout",
     "output_type": "stream",
     "text": [
      "0.19.2\n"
     ]
    }
   ],
   "source": [
    "print(sklearn.__version__)"
   ]
  },
  {
   "cell_type": "code",
   "execution_count": 21,
   "metadata": {},
   "outputs": [
    {
     "name": "stdout",
     "output_type": "stream",
     "text": [
      "2.3.1\n"
     ]
    }
   ],
   "source": [
    "print(tf.__version__)"
   ]
  },
  {
   "cell_type": "code",
   "execution_count": 4,
   "metadata": {},
   "outputs": [],
   "source": [
    "model_path = os.path.sep.join(['output4', 'animal.model'])\n",
    "le_path = os.path.sep.join(['spider', 'lb.pickle'])"
   ]
  },
  {
   "cell_type": "code",
   "execution_count": 7,
   "metadata": {},
   "outputs": [
    {
     "name": "stdout",
     "output_type": "stream",
     "text": [
      "[INFO] loading class labels from label binarizer\n",
      "['Australia_Redback_Spider' 'Australia_White-Tailed_Spider'\n",
      " 'Australian_Garden_Orb_Weaver_Spider' 'Australian_Tarantula_Spider'\n",
      " 'Sydney_Funnel_Web_Spider']\n",
      "[INFO] class labels: ['Australia_Redback_Spider', 'Australia_White-Tailed_Spider', 'Australian_Garden_Orb_Weaver_Spider', 'Australian_Tarantula_Spider', 'Sydney_Funnel_Web_Spider']\n"
     ]
    }
   ],
   "source": [
    "# load the class labels\n",
    "print(\"[INFO] loading class labels from label binarizer\")\n",
    "lb = pickle.loads(open(le_path, \"rb\").read())\n",
    "print(lb.classes_)\n",
    "class_labels = lb.classes_.tolist()\n",
    "print(\"[INFO] class labels: {}\".format(class_labels))\n"
   ]
  },
  {
   "cell_type": "code",
   "execution_count": 24,
   "metadata": {},
   "outputs": [
    {
     "name": "stdout",
     "output_type": "stream",
     "text": [
      "[INFO] loading model...\n",
      "<tensorflow.python.keras.engine.functional.Functional object at 0x7ff04daf3e80>\n"
     ]
    }
   ],
   "source": [
    "# load the trained convolutional neural network\n",
    "print(\"[INFO] loading model...\")\n",
    "model = load_model(model_path)\n",
    "print(model)"
   ]
  },
  {
   "cell_type": "code",
   "execution_count": 5,
   "metadata": {},
   "outputs": [],
   "source": [
    "input_tensor = Input(shape=(224,224,3))\n",
    "base_model = MobileNetV2(\n",
    "            include_top=True,\n",
    "            weights='imagenet',\n",
    "            input_tensor=input_tensor,\n",
    "            input_shape=(224,224,3),\n",
    "            pooling='avg')"
   ]
  },
  {
   "cell_type": "code",
   "execution_count": 26,
   "metadata": {},
   "outputs": [
    {
     "name": "stderr",
     "output_type": "stream",
     "text": [
      "Running TensorFlow Graph Passes: 100%|██████████| 5/5 [00:00<00:00, 13.46 passes/s]\n",
      "Converting Frontend ==> MIL Ops: 100%|██████████| 428/428 [00:00<00:00, 714.89 ops/s] \n",
      "Running MIL optimization passes: 100%|██████████| 18/18 [00:00<00:00, 35.26 passes/s]\n",
      "Translating MIL ==> MLModel Ops: 100%|██████████| 753/753 [00:00<00:00, 3086.12 ops/s]\n"
     ]
    }
   ],
   "source": [
    "coreml_model = coremltools.convert(model,\n",
    "                                                   input_names=['image'],\n",
    "                                                   image_input_names=\"image\",\n",
    "                                                   image_scale=1/255.0,\n",
    "                                                   class_labels = class_labels,\n",
    "                                                   is_bgr=True)"
   ]
  },
  {
   "cell_type": "code",
   "execution_count": 27,
   "metadata": {},
   "outputs": [
    {
     "name": "stdout",
     "output_type": "stream",
     "text": [
      "input {\n",
      "  name: \"input_1\"\n",
      "  type {\n",
      "    multiArrayType {\n",
      "      shape: 1\n",
      "      shape: 224\n",
      "      shape: 224\n",
      "      shape: 3\n",
      "      dataType: FLOAT32\n",
      "      shapeRange {\n",
      "        sizeRanges {\n",
      "          lowerBound: 1\n",
      "          upperBound: -1\n",
      "        }\n",
      "        sizeRanges {\n",
      "          lowerBound: 224\n",
      "          upperBound: 224\n",
      "        }\n",
      "        sizeRanges {\n",
      "          lowerBound: 224\n",
      "          upperBound: 224\n",
      "        }\n",
      "        sizeRanges {\n",
      "          lowerBound: 3\n",
      "          upperBound: 3\n",
      "        }\n",
      "      }\n",
      "    }\n",
      "  }\n",
      "}\n",
      "output {\n",
      "  name: \"Identity\"\n",
      "  type {\n",
      "    multiArrayType {\n",
      "      dataType: FLOAT32\n",
      "    }\n",
      "  }\n",
      "}\n",
      "metadata {\n",
      "  userDefined {\n",
      "    key: \"com.github.apple.coremltools.source\"\n",
      "    value: \"tensorflow==2.3.1\"\n",
      "  }\n",
      "  userDefined {\n",
      "    key: \"com.github.apple.coremltools.version\"\n",
      "    value: \"4.1\"\n",
      "  }\n",
      "}\n",
      "\n"
     ]
    }
   ],
   "source": [
    "print(coreml_model)"
   ]
  },
  {
   "cell_type": "code",
   "execution_count": 28,
   "metadata": {},
   "outputs": [],
   "source": [
    "output = model_path.rsplit('.', 1)[0] + '.mlmodel'\n",
    "coreml_model.save(output)"
   ]
  }
 ],
 "metadata": {
  "kernelspec": {
   "display_name": "Python 3",
   "language": "python",
   "name": "python3"
  },
  "language_info": {
   "codemirror_mode": {
    "name": "ipython",
    "version": 3
   },
   "file_extension": ".py",
   "mimetype": "text/x-python",
   "name": "python",
   "nbconvert_exporter": "python",
   "pygments_lexer": "ipython3",
   "version": "3.8.5"
  }
 },
 "nbformat": 4,
 "nbformat_minor": 4
}
